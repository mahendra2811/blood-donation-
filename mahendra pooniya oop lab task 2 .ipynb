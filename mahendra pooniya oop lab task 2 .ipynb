{
  "nbformat": 4,
  "nbformat_minor": 2,
  "metadata": {
    "colab": {
      "name": "OOP-Assignment-II.ipynb",
      "provenance": [],
      "collapsed_sections": []
    },
    "kernelspec": {
      "name": "python3",
      "display_name": "Python 3"
    },
    "language_info": {
      "name": "python"
    }
  },
  "cells": [
    {
      "cell_type": "markdown",
      "source": [
        "# Program 1"
      ],
      "metadata": {
        "id": "AdYlWul9BiST"
      }
    },
    {
      "cell_type": "code",
      "execution_count": null,
      "source": [
        "# Program 1\r\n",
        "\r\n",
        "import math\r\n",
        "class Circle:\r\n",
        "  def __init__(self,radius):\r\n",
        "    self.radius = radius\r\n",
        "  \r\n",
        "  def getArea(self)->float:\r\n",
        "    return math.pi*((self.radius)**2)\r\n",
        "  \r\n",
        "  def getPerimeter(self)->float:\r\n",
        "    return 2*(math.pi)*self.radius\r\n",
        "  \r\n",
        "myr = float(input(\"Enter the radius -> \"))\r\n",
        "myc = Circle(myr)\r\n",
        "print(\"Area of Circle -> \",myc.getArea())\r\n",
        "print(\"Area of Perimeter -> \",myc.getPerimeter())"
      ],
      "outputs": [
        {
          "output_type": "stream",
          "name": "stdout",
          "text": [
            "Enter the radius -> 20\n",
            "Area of Circle ->  1256.6370614359173\n",
            "Area of Perimeter ->  125.66370614359172\n"
          ]
        }
      ],
      "metadata": {
        "colab": {
          "base_uri": "https://localhost:8080/"
        },
        "id": "wBeFvQ_nBNBB",
        "outputId": "0e9c385c-5622-4136-f10b-4aa158ecc1a2"
      }
    },
    {
      "cell_type": "markdown",
      "source": [
        "# Program 2"
      ],
      "metadata": {
        "id": "LEWRCKx3BmDr"
      }
    },
    {
      "cell_type": "code",
      "execution_count": null,
      "source": [
        "# Program 2\r\n",
        "\r\n",
        "class Faculty:\r\n",
        "\r\n",
        "    def __init__(self,name:str,empId:int,branch:str,salary:float):\r\n",
        "        self.name = name\r\n",
        "        self.empId = empId\r\n",
        "        self.branch = branch\r\n",
        "        self.salary = salary\r\n",
        "    \r\n",
        "\r\n",
        "myFaculty = []\r\n",
        "total = 3\r\n",
        "\r\n",
        "for i in range(total):\r\n",
        "    print(\"\\n\\n#\",(i+1),\" data\\n\\n\")\r\n",
        "    \r\n",
        "    name = input(\"Enter name -> \")\r\n",
        "    empId = int(input(\"Enter employeeId -> \"))\r\n",
        "    branch = input(\"Enter branch -> \")\r\n",
        "    salary = input(\"Enter salary -> \")\r\n",
        "    myf = Faculty(name,empId,branch,salary)\r\n",
        "    myFaculty.append(myf)\r\n",
        "\r\n",
        "for member in myFaculty:\r\n",
        "    print(member.name,member.empId,member.branch,member.salary)"
      ],
      "outputs": [
        {
          "output_type": "stream",
          "name": "stdout",
          "text": [
            "\n",
            "\n",
            "# 1  data\n",
            "\n",
            "\n",
            "Enter name -> Siddhant\n",
            "Enter employeeId -> 4135\n",
            "Enter branch -> CSE\n",
            "Enter salary -> 9999999999999\n",
            "\n",
            "\n",
            "# 2  data\n",
            "\n",
            "\n",
            "Enter name -> Sarthak\n",
            "Enter employeeId -> 8391\n",
            "Enter branch -> MECH\n",
            "Enter salary -> 999999999999999\n",
            "\n",
            "\n",
            "# 3  data\n",
            "\n",
            "\n",
            "Enter name -> Priya\n",
            "Enter employeeId -> 4136\n",
            "Enter branch -> CSE\n",
            "Enter salary -> 9999999999999\n",
            "Siddhant 4135 CSE 9999999999999\n",
            "Sarthak 8391 MECH 999999999999999\n",
            "Priya 4136 CSE 9999999999999\n"
          ]
        }
      ],
      "metadata": {
        "colab": {
          "base_uri": "https://localhost:8080/"
        },
        "id": "LH9dcirLBarb",
        "outputId": "41486de9-8e3a-4e0a-ff59-c02d5d9a83bb"
      }
    },
    {
      "cell_type": "markdown",
      "source": [
        "# Program 3"
      ],
      "metadata": {
        "id": "biaF_SA4Bo9q"
      }
    },
    {
      "cell_type": "code",
      "execution_count": 1,
      "source": [
        "# Program 3\n",
        "\n",
        "class BankAccount:\n",
        "\n",
        "    def __init__(self, account_no, account_holder_name, amount=0.0):\n",
        "        self.account_no = account_no\n",
        "        self.account_holder_name = account_holder_name\n",
        "        self.amount = amount\n",
        "\n",
        "    def depositAmount(self, add_amount: float) -> bool:\n",
        "        self.amount += add_amount\n",
        "        print(\"Amount Deposited -> \",add_amount)\n",
        "        self.checkBalance()\n",
        "\n",
        "    def withdrawAmount(self, get_amount: float) -> bool:\n",
        "        if self.amount < get_amount:\n",
        "            print(\"Insufficient Balance\")\n",
        "        else:\n",
        "            self.amount -= get_amount\n",
        "            print(\"Amount WithDrawn -> \",get_amount)\n",
        "        self.checkBalance()\n",
        "\n",
        "\n",
        "    def checkBalance(self):\n",
        "        print(\"\\nAccount Balance -> \", self.amount)\n",
        "        print(\"\\n\")\n",
        "\n",
        "    def displayDetails(self):\n",
        "        print(\"Account No          -> \", self.account_no)\n",
        "        print(\"Account Holder Name -> \", self.account_holder_name)\n",
        "        print(\"Bank Balance Amount -> \", self.amount)\n",
        "\n",
        "\n",
        "\n",
        "acc_no = input(\"Enter account no -> \")\n",
        "acc_hlr_name = input(\"Enter account holder name -> \")\n",
        "\n",
        "bobj = BankAccount(acc_no,acc_hlr_name)\n",
        "bobj.checkBalance()\n",
        "bobj.depositAmount(50)\n",
        "bobj.withdrawAmount(100)\n",
        "\n",
        "\n",
        "bobj.displayDetails()\n",
        "\n"
      ],
      "outputs": [
        {
          "output_type": "stream",
          "name": "stdout",
          "text": [
            "Enter account no -> 4123125\n",
            "Enter account holder name -> Abhishek Dubey\n",
            "\n",
            "Account Balance ->  0.0\n",
            "\n",
            "\n",
            "Amount Deposited ->  50\n",
            "\n",
            "Account Balance ->  50.0\n",
            "\n",
            "\n",
            "Insufficient Balance\n",
            "\n",
            "Account Balance ->  50.0\n",
            "\n",
            "\n",
            "Account No          ->  4123125\n",
            "Account Holder Name ->  Abhishek Dubey\n",
            "Bank Balance Amount ->  50.0\n"
          ]
        }
      ],
      "metadata": {
        "colab": {
          "base_uri": "https://localhost:8080/"
        },
        "id": "lb52sA3VBcfi",
        "outputId": "c9bdbdc6-2634-4f51-c8df-5980fe2c397b"
      }
    },
    {
      "cell_type": "markdown",
      "source": [
        "# Program 4"
      ],
      "metadata": {
        "id": "terB-tdZBw-T"
      }
    },
    {
      "cell_type": "code",
      "execution_count": null,
      "source": [
        "class Student:\n",
        "\n",
        "    marks = []\n",
        "\n",
        "    def __init__(self,name:str,USN:int):\n",
        "        self.name = name\n",
        "        self.USN = USN\n",
        "\n",
        "    def updateMarks(self,physics:int,chemistry:int,maths:int):\n",
        "        self.marks.append(physics)\n",
        "        self.marks.append(chemistry)\n",
        "        self.marks.append(maths)\n",
        "    \n",
        "    def printInfo(self):\n",
        "        print(f\"\\n\\n\\n Name - {self.name}\")\n",
        "        print(f\" USN  - {self.USN}\")\n",
        "\n",
        "    def printMarks(self):\n",
        "        print(\"\\n MARKS\\n\")\n",
        "        print(f\" 1. Physics - {self.marks[0]}\")\n",
        "        print(f\" 2. Chemistry - {self.marks[1]}\")\n",
        "        print(f\" 3. Maths - {self.marks[2]}\")\n",
        "\n",
        "\n",
        "a = Student(\"Siddhant\",123)\n",
        "a.updateMarks(100,100,100)\n",
        "a.printInfo()\n",
        "a.printMarks()\n",
        "\n",
        "b = Student(\"Raman\",100)\n",
        "b.updateMarks(90,95,100)\n",
        "a.printInfo()\n",
        "a.printMarks()\n",
        "\n",
        "c = Student(\"Sheetal\",100)\n",
        "c.updateMarks(90,95,100)\n",
        "a.printInfo()\n",
        "a.printMarks()\n"
      ],
      "outputs": [
        {
          "output_type": "stream",
          "name": "stdout",
          "text": [
            "\n",
            "\n",
            "\n",
            " Name - Siddhant\n",
            " USN  - 123\n",
            "\n",
            " MARKS\n",
            "\n",
            " 1. Physics - 100\n",
            " 2. Chemistry - 100\n",
            " 3. Maths - 100\n",
            "\n",
            "\n",
            "\n",
            " Name - Siddhant\n",
            " USN  - 123\n",
            "\n",
            " MARKS\n",
            "\n",
            " 1. Physics - 100\n",
            " 2. Chemistry - 100\n",
            " 3. Maths - 100\n",
            "\n",
            "\n",
            "\n",
            " Name - Siddhant\n",
            " USN  - 123\n",
            "\n",
            " MARKS\n",
            "\n",
            " 1. Physics - 100\n",
            " 2. Chemistry - 100\n",
            " 3. Maths - 100\n"
          ]
        }
      ],
      "metadata": {
        "colab": {
          "base_uri": "https://localhost:8080/"
        },
        "id": "LhJBYRBCBgby",
        "outputId": "3d21e048-e4a0-4517-9c6e-89a4f68b5aa5"
      }
    },
    {
      "cell_type": "markdown",
      "source": [
        "# Program 5"
      ],
      "metadata": {
        "id": "6o_6TbhwB65c"
      }
    },
    {
      "cell_type": "code",
      "execution_count": 2,
      "source": [
        "class Patient:\r\n",
        "    def inputData(self):\r\n",
        "        self.name = input(\"Enter the name of the patient : \")\r\n",
        "        self.dateOfAdmission = input(\"Enter the date of admission : \")\r\n",
        "        self.symptoms = input(\"Enter all the symptoms with a space in between : \").split(\" \")\r\n",
        "        self.oxygenLevel = int(input(\"Enter the oxygen level of the patient : \"))\r\n",
        "        self.dateOfDischarge = input(\"Enter the date of discharge : \")\r\n",
        "\r\n",
        "    def printData(self):\r\n",
        "        print(f\"\\nName : {self.name} \\nDate of Admission : {self.dateOfAdmission} \\nSymptoms : {self.symptoms} \\nOxygen Level : {self.oxygenLevel} \\nDate of Discharge : {self.dateOfDischarge}\\n\")\r\n",
        "        return self.name, self.dateOfAdmission, self.symptoms, self.oxygenLevel, self.dateOfDischarge\r\n",
        "\r\n",
        "    def checkSeverity(self):\r\n",
        "        return (self.oxygenLevel < 90)\r\n",
        "\r\n",
        "\r\n",
        "class Hospital:\r\n",
        "    def __init__(self):\r\n",
        "        self.patients = []\r\n",
        "\r\n",
        "    def addPatientData(self,N=5):\r\n",
        "        for i in range(N):\r\n",
        "            pt = Patient()\r\n",
        "            pt.inputData()\r\n",
        "            pt.printData()\r\n",
        "            self.patients.append(pt)\r\n",
        "    \r\n",
        "    def getOxygenSupport(self,printPatientData=False):\r\n",
        "        ct=0\r\n",
        "        for pat in self.patients:\r\n",
        "            if pat.checkSeverity():\r\n",
        "                ct+=1\r\n",
        "                if printPatientData:\r\n",
        "                    pat.printData()\r\n",
        "        print(\"\\n\\nNo of Patients requried Oxygen Support = \",ct)\r\n",
        "        return ct\r\n",
        "\r\n",
        "    def getPatientsInGeneralWard(self,printPatientData=False):\r\n",
        "        ct=0\r\n",
        "        for pat in self.patients:\r\n",
        "            if not pat.checkSeverity():\r\n",
        "                ct+=1\r\n",
        "                if printPatientData:\r\n",
        "                    pat.printData()\r\n",
        "        \r\n",
        "        print(\"\\n\\nNo of Patients in the general ward for observation = \",ct)\r\n",
        "        return ct\r\n",
        "\r\n",
        "\r\n",
        "    def getPatientsData(self,printPatientData=False):\r\n",
        "        for pat in self.patients:\r\n",
        "            if printPatientData:\r\n",
        "                pat.printData()\r\n",
        "        \r\n",
        "        print(\"Total Number of Patients Admitted :\",len(self.patients))\r\n",
        "        return len(self.patients)\r\n",
        "\r\n",
        "\r\n",
        "\r\n",
        "x = Hospital()\r\n",
        "while True:\r\n",
        "    print(\"\\n\\nEnter Choice (2Y,3Y,4Y) to print Details too\\n\\n\")\r\n",
        "    print(\"1. Add Patients\")\r\n",
        "    print(\"2. Total Patients on Oxygen Support\")\r\n",
        "    print(\"3. Total Patients in General Ward\")\r\n",
        "    print(\"4. Print Patient Data\")\r\n",
        "    print(\"5. Exit\\n\\n\")\r\n",
        "\r\n",
        "    choice = input(\"-> \")\r\n",
        "    \r\n",
        "    if(choice==\"1\"):\r\n",
        "        n = input(\"How many patients (default 5) -> \")\r\n",
        "        if n==\"\":\r\n",
        "            x.addPatientData()\r\n",
        "        else:\r\n",
        "            x.addPatientData(int(n))\r\n",
        "    \r\n",
        "    if(choice==\"2\"):\r\n",
        "        x.getOxygenSupport()\r\n",
        "\r\n",
        "    if(choice==\"2Y\"):\r\n",
        "        x.getOxygenSupport(True)\r\n",
        "    \r\n",
        "    if(choice==\"3\"):\r\n",
        "        x.getPatientsInGeneralWard()\r\n",
        "\r\n",
        "    if(choice==\"3Y\"):\r\n",
        "        x.getPatientsInGeneralWard(True)\r\n",
        "\r\n",
        "    if(choice==\"4\"):\r\n",
        "        x.getPatientsData()\r\n",
        "\r\n",
        "    if(choice==\"4Y\"):\r\n",
        "        x.getPatientsData(True)\r\n",
        "    \r\n",
        "    if(choice==\"5\"):\r\n",
        "        break"
      ],
      "outputs": [
        {
          "output_type": "stream",
          "name": "stdout",
          "text": [
            "\n",
            "\n",
            "Enter Choice (2Y,3Y,4Y) to print Details too\n",
            "\n",
            "\n",
            "1. Add Patients\n",
            "2. Total Patients on Oxygen Support\n",
            "3. Total Patients in General Ward\n",
            "4. Print Patient Data\n",
            "5. Exit\n",
            "\n",
            "\n",
            "-> 1\n",
            "How many patients (default 5) -> 2\n",
            "Enter the name of the patient : Abhishek Dubey\n",
            "Enter the date of admission : 16-09-2021\n",
            "Enter all the symptoms with a space in between : Depression\n",
            "Enter the oxygen level of the patient : 90\n",
            "Enter the date of discharge : 20-09-2021\n",
            "\n",
            "Name : Abhishek Dubey \n",
            "Date of Admission : 16-09-2021 \n",
            "Symptoms : ['Depression'] \n",
            "Oxygen Level : 90 \n",
            "Date of Discharge : 20-09-2021\n",
            "\n",
            "Enter the name of the patient : Amit Kumar Pandey\n",
            "Enter the date of admission : 21-09-2021\n",
            "Enter all the symptoms with a space in between : Nothing\n",
            "Enter the oxygen level of the patient : 79\n",
            "Enter the date of discharge : 25-09-201\n",
            "\n",
            "Name : Amit Kumar Pandey \n",
            "Date of Admission : 21-09-2021 \n",
            "Symptoms : ['Nothing'] \n",
            "Oxygen Level : 79 \n",
            "Date of Discharge : 25-09-201\n",
            "\n",
            "\n",
            "\n",
            "Enter Choice (2Y,3Y,4Y) to print Details too\n",
            "\n",
            "\n",
            "1. Add Patients\n",
            "2. Total Patients on Oxygen Support\n",
            "3. Total Patients in General Ward\n",
            "4. Print Patient Data\n",
            "5. Exit\n",
            "\n",
            "\n",
            "-> 2\n",
            "\n",
            "\n",
            "No of Patients requried Oxygen Support =  1\n",
            "\n",
            "\n",
            "Enter Choice (2Y,3Y,4Y) to print Details too\n",
            "\n",
            "\n",
            "1. Add Patients\n",
            "2. Total Patients on Oxygen Support\n",
            "3. Total Patients in General Ward\n",
            "4. Print Patient Data\n",
            "5. Exit\n",
            "\n",
            "\n",
            "-> 2Y\n",
            "\n",
            "Name : Amit Kumar Pandey \n",
            "Date of Admission : 21-09-2021 \n",
            "Symptoms : ['Nothing'] \n",
            "Oxygen Level : 79 \n",
            "Date of Discharge : 25-09-201\n",
            "\n",
            "\n",
            "\n",
            "No of Patients requried Oxygen Support =  1\n",
            "\n",
            "\n",
            "Enter Choice (2Y,3Y,4Y) to print Details too\n",
            "\n",
            "\n",
            "1. Add Patients\n",
            "2. Total Patients on Oxygen Support\n",
            "3. Total Patients in General Ward\n",
            "4. Print Patient Data\n",
            "5. Exit\n",
            "\n",
            "\n",
            "-> 3\n",
            "\n",
            "\n",
            "No of Patients in the general ward for observation =  1\n",
            "\n",
            "\n",
            "Enter Choice (2Y,3Y,4Y) to print Details too\n",
            "\n",
            "\n",
            "1. Add Patients\n",
            "2. Total Patients on Oxygen Support\n",
            "3. Total Patients in General Ward\n",
            "4. Print Patient Data\n",
            "5. Exit\n",
            "\n",
            "\n",
            "-> 3Y\n",
            "\n",
            "Name : Abhishek Dubey \n",
            "Date of Admission : 16-09-2021 \n",
            "Symptoms : ['Depression'] \n",
            "Oxygen Level : 90 \n",
            "Date of Discharge : 20-09-2021\n",
            "\n",
            "\n",
            "\n",
            "No of Patients in the general ward for observation =  1\n",
            "\n",
            "\n",
            "Enter Choice (2Y,3Y,4Y) to print Details too\n",
            "\n",
            "\n",
            "1. Add Patients\n",
            "2. Total Patients on Oxygen Support\n",
            "3. Total Patients in General Ward\n",
            "4. Print Patient Data\n",
            "5. Exit\n",
            "\n",
            "\n",
            "-> 4\n",
            "Total Number of Patients Admitted : 2\n",
            "\n",
            "\n",
            "Enter Choice (2Y,3Y,4Y) to print Details too\n",
            "\n",
            "\n",
            "1. Add Patients\n",
            "2. Total Patients on Oxygen Support\n",
            "3. Total Patients in General Ward\n",
            "4. Print Patient Data\n",
            "5. Exit\n",
            "\n",
            "\n",
            "-> 4Y\n",
            "\n",
            "Name : Abhishek Dubey \n",
            "Date of Admission : 16-09-2021 \n",
            "Symptoms : ['Depression'] \n",
            "Oxygen Level : 90 \n",
            "Date of Discharge : 20-09-2021\n",
            "\n",
            "\n",
            "Name : Amit Kumar Pandey \n",
            "Date of Admission : 21-09-2021 \n",
            "Symptoms : ['Nothing'] \n",
            "Oxygen Level : 79 \n",
            "Date of Discharge : 25-09-201\n",
            "\n",
            "Total Number of Patients Admitted : 2\n",
            "\n",
            "\n",
            "Enter Choice (2Y,3Y,4Y) to print Details too\n",
            "\n",
            "\n",
            "1. Add Patients\n",
            "2. Total Patients on Oxygen Support\n",
            "3. Total Patients in General Ward\n",
            "4. Print Patient Data\n",
            "5. Exit\n",
            "\n",
            "\n",
            "-> 5\n"
          ]
        }
      ],
      "metadata": {
        "colab": {
          "base_uri": "https://localhost:8080/"
        },
        "id": "5qUGFa3_CFQb",
        "outputId": "d3e5952e-fdd2-45c9-ef5b-54a5000dbe27"
      }
    },
    {
      "cell_type": "markdown",
      "source": [
        "# Program 6"
      ],
      "metadata": {
        "id": "co_T6ZzRB71m"
      }
    },
    {
      "cell_type": "code",
      "execution_count": null,
      "source": [
        "class Time:\r\n",
        "    def __init__(self, hours=0,minutes=0,seconds=0):\r\n",
        "        self.hours = hours\r\n",
        "        self.minutes = minutes\r\n",
        "        self.seconds = seconds\r\n",
        "\r\n",
        "    def display(self):\r\n",
        "        print(f\"Time : {self.hours:02d}:{self.minutes:02d}:{self.seconds:02d}\")\r\n",
        "\r\n",
        "\r\n",
        "x = Time()\r\n",
        "x.display()\r\n",
        "\r\n",
        "\r\n",
        "y = Time(5,30,6)\r\n",
        "y.display()"
      ],
      "outputs": [
        {
          "output_type": "stream",
          "name": "stdout",
          "text": [
            "Time : 00:00:00\n",
            "Time : 05:30:06\n"
          ]
        }
      ],
      "metadata": {
        "colab": {
          "base_uri": "https://localhost:8080/"
        },
        "id": "_dktNTtYCHGz",
        "outputId": "de4f29aa-285c-4160-bd98-ecbc2dfe9b63"
      }
    },
    {
      "cell_type": "markdown",
      "source": [
        "# Program 7"
      ],
      "metadata": {
        "id": "0QBG9gbXB75A"
      }
    },
    {
      "cell_type": "code",
      "execution_count": null,
      "source": [
        "class Student:\r\n",
        "    def __init__(self, name, age, rollNo):\r\n",
        "        self.name = name\r\n",
        "        self.age = age\r\n",
        "        self.rollNo = rollNo\r\n",
        "\r\n",
        "    @classmethod\r\n",
        "    def compare(cls, std1, std2):\r\n",
        "        if std1.age == std2.age:\r\n",
        "            print(\"Age of the students are equal.\")\r\n",
        "        else:\r\n",
        "            print(\"Age of the students are not equal.\")\r\n",
        "\r\n",
        "S1 = Student(\"Siddhant Dixit\", 19, 123)\r\n",
        "S2 = Student(\"Sarthak Dixit\", 21, 124)\r\n",
        "Student.compare(S1, S2)\r\n",
        "\r\n",
        "\r\n",
        "S1 = Student(\"Siddhant Dixit\", 19, 123)\r\n",
        "S2 = Student(\"Sarthak Dixit\", 19, 124)\r\n",
        "Student.compare(S1, S2)"
      ],
      "outputs": [
        {
          "output_type": "stream",
          "name": "stdout",
          "text": [
            "Age of the students are not equal.\n",
            "Age of the students are equal.\n"
          ]
        }
      ],
      "metadata": {
        "colab": {
          "base_uri": "https://localhost:8080/"
        },
        "id": "Wud5_o34CIbj",
        "outputId": "42a3ee66-c4af-4897-ac1a-b921b9a024b6"
      }
    },
    {
      "cell_type": "markdown",
      "source": [
        "# Program 8"
      ],
      "metadata": {
        "id": "NAJiWbLGB77s"
      }
    },
    {
      "cell_type": "code",
      "execution_count": 3,
      "source": [
        "class Student:\r\n",
        "    sem = 3\r\n",
        "    institute = \"IIIT Dharwad\"\r\n",
        "    \r\n",
        "    def setData(self):\r\n",
        "        self.name = input(\"Enter the name of the student : \")\r\n",
        "        self.id = int(input(\"Enter the USN of student : \"))\r\n",
        "\r\n",
        "    def getInstanceData(self):\r\n",
        "        print(f\"Name : {self.name}\")\r\n",
        "        print(f\"USN = {self.id}\")\r\n",
        "\r\n",
        "    @classmethod\r\n",
        "    def getClassData(cls):\r\n",
        "        print(f\"Semester : {cls.sem}\")\r\n",
        "        print(f\"Institute : {cls.institute}\")\r\n",
        "\r\n",
        "    @staticmethod\r\n",
        "    def getExplanation():\r\n",
        "        print(\"Class variables (sem, institute) are printed using ClassMethod and Instance variables (name, id) are printed using Instance Method\")\r\n",
        "\r\n",
        "\r\n",
        "s1 = Student()\r\n",
        "s1.setData()\r\n",
        "s1.getInstanceData()\r\n",
        "Student.getClassData()\r\n",
        "Student.getExplanation()"
      ],
      "outputs": [
        {
          "output_type": "stream",
          "name": "stdout",
          "text": [
            "Enter the name of the student : Abhishek Dubey\n",
            "Enter the USN of student : 12315134\n",
            "Name : Abhishek Dubey\n",
            "USN = 12315134\n",
            "Semester : 3\n",
            "Institute : IIIT Dharwad\n",
            "Class variables (sem, institute) are printed using ClassMethod and Instance variables (name, id) are printed using Instance Method\n"
          ]
        }
      ],
      "metadata": {
        "colab": {
          "base_uri": "https://localhost:8080/"
        },
        "id": "Lr_BKS3jCJ8T",
        "outputId": "7cacf684-5657-43fb-ed1a-8d744fe3baf5"
      }
    },
    {
      "cell_type": "markdown",
      "source": [
        "# Program 9"
      ],
      "metadata": {
        "id": "89P6-ffvB-yj"
      }
    },
    {
      "cell_type": "code",
      "execution_count": 4,
      "source": [
        "class Student:\n",
        "    def setData(self):\n",
        "        self.Name = input(\"Enter the name : \")\n",
        "        self.ID = int(input(\"Enter the Roll Number : \"))\n",
        "        self.sem = int(input(\"Enter the semester number : \"))\n",
        "        self.nLaptop = int(input(\"Enter the number of laptops : \"))\n",
        "        self.listLaptop = []\n",
        "        for i in range (0, self.nLaptop):\n",
        "            tempObj = self.Laptop()\n",
        "            self.listLaptop.append(tempObj)\n",
        "\n",
        "    class Laptop:\n",
        "        def __init__(self):\n",
        "            self.cpu = input(\"Enter the name of the CPU : \")\n",
        "            self.ram = input(\"Enter the RAM of the Laptop : \")\n",
        "            self.hardDisk = input(\"Enter the size of hard disk : \")\n",
        "            self.display = input(\"Enter the display resolution : \")\n",
        "        \n",
        "        def getData(self):\n",
        "            print(f\"CPU : {self.cpu}\") \n",
        "            print(f\"RAM : {self.ram}\")\n",
        "            print(f\"Hard Disk : {self.hardDisk}\")\n",
        "            print(f\"Display Resolution : {self.display}\")\n",
        "\n",
        "    def getData(self):\n",
        "        print(f\"Name : {self.Name}\") \n",
        "        print(f\"USN : {self.ID}\")\n",
        "        print(f\"Semester : {self.sem}\")\n",
        "        print(f\"Number of Laptops : {self.nLaptop}\")\n",
        "        for i in range(0, self.nLaptop):\n",
        "            print(f\"Details of laptop {i+1}  : \")\n",
        "            self.listLaptop[i].getData()\n",
        "\n",
        "S1 = Student()\n",
        "S1.setData()\n",
        "S1.getData()"
      ],
      "outputs": [
        {
          "output_type": "stream",
          "name": "stdout",
          "text": [
            "Enter the name : Abhishek Dubey\n",
            "Enter the Roll Number : 132\n",
            "Enter the semester number : 3\n",
            "Enter the number of laptops : 2\n",
            "Enter the name of the CPU : Intel\n",
            "Enter the RAM of the Laptop : 2\n",
            "Enter the size of hard disk : 4\n",
            "Enter the display resolution : 1204x1234\n",
            "Enter the name of the CPU : Ryzen\n",
            "Enter the RAM of the Laptop : 123\n",
            "Enter the size of hard disk : 41\n",
            "Enter the display resolution : 1230x0234\n",
            "Name : Abhishek Dubey\n",
            "USN : 132\n",
            "Semester : 3\n",
            "Number of Laptops : 2\n",
            "Details of laptop 1  : \n",
            "CPU : Intel\n",
            "RAM : 2\n",
            "Hard Disk : 4\n",
            "Display Resolution : 1204x1234\n",
            "Details of laptop 2  : \n",
            "CPU : Ryzen\n",
            "RAM : 123\n",
            "Hard Disk : 41\n",
            "Display Resolution : 1230x0234\n"
          ]
        }
      ],
      "metadata": {
        "colab": {
          "base_uri": "https://localhost:8080/"
        },
        "id": "5WBnFepBCLV7",
        "outputId": "f81e2c6c-9a67-4fa6-ac46-17cb13367f37"
      }
    }
  ]
}